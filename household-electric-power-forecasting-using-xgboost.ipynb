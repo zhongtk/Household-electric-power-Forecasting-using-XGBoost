{
 "cells": [
  {
   "cell_type": "code",
   "execution_count": 1,
   "id": "afaf366d",
   "metadata": {
    "_cell_guid": "b1076dfc-b9ad-4769-8c92-a6c4dae69d19",
    "_uuid": "8f2839f25d086af736a60e9eeb907d3b93b6e0e5",
    "execution": {
     "iopub.execute_input": "2022-07-15T10:01:09.054458Z",
     "iopub.status.busy": "2022-07-15T10:01:09.053904Z",
     "iopub.status.idle": "2022-07-15T10:01:10.561668Z",
     "shell.execute_reply": "2022-07-15T10:01:10.560223Z"
    },
    "papermill": {
     "duration": 1.523036,
     "end_time": "2022-07-15T10:01:10.565431",
     "exception": false,
     "start_time": "2022-07-15T10:01:09.042395",
     "status": "completed"
    },
    "tags": []
   },
   "outputs": [
    {
     "name": "stdout",
     "output_type": "stream",
     "text": [
      "/kaggle/input/electric-power-consumption-data-set/household_power_consumption.txt\n"
     ]
    }
   ],
   "source": [
    "# I tried to forecast household electric power using XGBoost, mainly involving creating time series features and lagging features.\n",
    "\n",
    "import numpy as np # linear algebra\n",
    "import pandas as pd # data processing, CSV file I/O (e.g. pd.read_csv)\n",
    "import matplotlib.pyplot as plt\n",
    "import warnings # Supress warnings \n",
    "warnings.filterwarnings('ignore')\n",
    "import seaborn as sns\n",
    "%matplotlib inline\n",
    "\n",
    "import xgboost as xgb\n",
    "from xgboost import plot_importance\n",
    "from sklearn.metrics import mean_squared_error\n",
    "\n",
    "# Input data files are available in the read-only \"../input/\" directory\n",
    "# For example, running this (by clicking run or pressing Shift+Enter) will list all files under the input directory\n",
    "\n",
    "import os\n",
    "for dirname, _, filenames in os.walk('/kaggle/input'):\n",
    "    for filename in filenames:\n",
    "        print(os.path.join(dirname, filename))\n"
   ]
  },
  {
   "cell_type": "code",
   "execution_count": 2,
   "id": "dee46365",
   "metadata": {
    "execution": {
     "iopub.execute_input": "2022-07-15T10:01:10.584000Z",
     "iopub.status.busy": "2022-07-15T10:01:10.583591Z",
     "iopub.status.idle": "2022-07-15T10:01:26.066136Z",
     "shell.execute_reply": "2022-07-15T10:01:26.065094Z"
    },
    "papermill": {
     "duration": 15.494816,
     "end_time": "2022-07-15T10:01:26.068896",
     "exception": false,
     "start_time": "2022-07-15T10:01:10.574080",
     "status": "completed"
    },
    "tags": []
   },
   "outputs": [],
   "source": [
    "df = pd.read_csv('/kaggle/input/electric-power-consumption-data-set/household_power_consumption.txt', sep=';', \n",
    "                 parse_dates={'dt' : ['Date', 'Time']}, infer_datetime_format=True, \n",
    "                 low_memory=False, na_values=['nan','?'], index_col='dt')"
   ]
  },
  {
   "cell_type": "markdown",
   "id": "23d0c172",
   "metadata": {
    "papermill": {
     "duration": 0.007767,
     "end_time": "2022-07-15T10:01:26.084845",
     "exception": false,
     "start_time": "2022-07-15T10:01:26.077078",
     "status": "completed"
    },
    "tags": []
   },
   "source": [
    "# Data processing"
   ]
  },
  {
   "cell_type": "code",
   "execution_count": 3,
   "id": "6acec2a9",
   "metadata": {
    "execution": {
     "iopub.execute_input": "2022-07-15T10:01:26.104259Z",
     "iopub.status.busy": "2022-07-15T10:01:26.103481Z",
     "iopub.status.idle": "2022-07-15T10:01:26.132506Z",
     "shell.execute_reply": "2022-07-15T10:01:26.131214Z"
    },
    "papermill": {
     "duration": 0.041495,
     "end_time": "2022-07-15T10:01:26.135086",
     "exception": false,
     "start_time": "2022-07-15T10:01:26.093591",
     "status": "completed"
    },
    "tags": []
   },
   "outputs": [
    {
     "data": {
      "text/html": [
       "<div>\n",
       "<style scoped>\n",
       "    .dataframe tbody tr th:only-of-type {\n",
       "        vertical-align: middle;\n",
       "    }\n",
       "\n",
       "    .dataframe tbody tr th {\n",
       "        vertical-align: top;\n",
       "    }\n",
       "\n",
       "    .dataframe thead th {\n",
       "        text-align: right;\n",
       "    }\n",
       "</style>\n",
       "<table border=\"1\" class=\"dataframe\">\n",
       "  <thead>\n",
       "    <tr style=\"text-align: right;\">\n",
       "      <th></th>\n",
       "      <th>Global_active_power</th>\n",
       "      <th>Global_reactive_power</th>\n",
       "      <th>Voltage</th>\n",
       "      <th>Global_intensity</th>\n",
       "      <th>Sub_metering_1</th>\n",
       "      <th>Sub_metering_2</th>\n",
       "      <th>Sub_metering_3</th>\n",
       "    </tr>\n",
       "    <tr>\n",
       "      <th>dt</th>\n",
       "      <th></th>\n",
       "      <th></th>\n",
       "      <th></th>\n",
       "      <th></th>\n",
       "      <th></th>\n",
       "      <th></th>\n",
       "      <th></th>\n",
       "    </tr>\n",
       "  </thead>\n",
       "  <tbody>\n",
       "    <tr>\n",
       "      <th>2006-12-16 17:24:00</th>\n",
       "      <td>4.216</td>\n",
       "      <td>0.418</td>\n",
       "      <td>234.84</td>\n",
       "      <td>18.4</td>\n",
       "      <td>0.0</td>\n",
       "      <td>1.0</td>\n",
       "      <td>17.0</td>\n",
       "    </tr>\n",
       "    <tr>\n",
       "      <th>2006-12-16 17:25:00</th>\n",
       "      <td>5.360</td>\n",
       "      <td>0.436</td>\n",
       "      <td>233.63</td>\n",
       "      <td>23.0</td>\n",
       "      <td>0.0</td>\n",
       "      <td>1.0</td>\n",
       "      <td>16.0</td>\n",
       "    </tr>\n",
       "    <tr>\n",
       "      <th>2006-12-16 17:26:00</th>\n",
       "      <td>5.374</td>\n",
       "      <td>0.498</td>\n",
       "      <td>233.29</td>\n",
       "      <td>23.0</td>\n",
       "      <td>0.0</td>\n",
       "      <td>2.0</td>\n",
       "      <td>17.0</td>\n",
       "    </tr>\n",
       "    <tr>\n",
       "      <th>2006-12-16 17:27:00</th>\n",
       "      <td>5.388</td>\n",
       "      <td>0.502</td>\n",
       "      <td>233.74</td>\n",
       "      <td>23.0</td>\n",
       "      <td>0.0</td>\n",
       "      <td>1.0</td>\n",
       "      <td>17.0</td>\n",
       "    </tr>\n",
       "    <tr>\n",
       "      <th>2006-12-16 17:28:00</th>\n",
       "      <td>3.666</td>\n",
       "      <td>0.528</td>\n",
       "      <td>235.68</td>\n",
       "      <td>15.8</td>\n",
       "      <td>0.0</td>\n",
       "      <td>1.0</td>\n",
       "      <td>17.0</td>\n",
       "    </tr>\n",
       "  </tbody>\n",
       "</table>\n",
       "</div>"
      ],
      "text/plain": [
       "                     Global_active_power  Global_reactive_power  Voltage  \\\n",
       "dt                                                                         \n",
       "2006-12-16 17:24:00                4.216                  0.418   234.84   \n",
       "2006-12-16 17:25:00                5.360                  0.436   233.63   \n",
       "2006-12-16 17:26:00                5.374                  0.498   233.29   \n",
       "2006-12-16 17:27:00                5.388                  0.502   233.74   \n",
       "2006-12-16 17:28:00                3.666                  0.528   235.68   \n",
       "\n",
       "                     Global_intensity  Sub_metering_1  Sub_metering_2  \\\n",
       "dt                                                                      \n",
       "2006-12-16 17:24:00              18.4             0.0             1.0   \n",
       "2006-12-16 17:25:00              23.0             0.0             1.0   \n",
       "2006-12-16 17:26:00              23.0             0.0             2.0   \n",
       "2006-12-16 17:27:00              23.0             0.0             1.0   \n",
       "2006-12-16 17:28:00              15.8             0.0             1.0   \n",
       "\n",
       "                     Sub_metering_3  \n",
       "dt                                   \n",
       "2006-12-16 17:24:00            17.0  \n",
       "2006-12-16 17:25:00            16.0  \n",
       "2006-12-16 17:26:00            17.0  \n",
       "2006-12-16 17:27:00            17.0  \n",
       "2006-12-16 17:28:00            17.0  "
      ]
     },
     "execution_count": 3,
     "metadata": {},
     "output_type": "execute_result"
    }
   ],
   "source": [
    "df.head()"
   ]
  },
  {
   "cell_type": "code",
   "execution_count": 4,
   "id": "f49baa29",
   "metadata": {
    "execution": {
     "iopub.execute_input": "2022-07-15T10:01:26.153877Z",
     "iopub.status.busy": "2022-07-15T10:01:26.153217Z",
     "iopub.status.idle": "2022-07-15T10:01:26.192043Z",
     "shell.execute_reply": "2022-07-15T10:01:26.190791Z"
    },
    "papermill": {
     "duration": 0.051197,
     "end_time": "2022-07-15T10:01:26.194737",
     "exception": false,
     "start_time": "2022-07-15T10:01:26.143540",
     "status": "completed"
    },
    "tags": []
   },
   "outputs": [
    {
     "data": {
      "text/plain": [
       "Global_active_power      25979\n",
       "Global_reactive_power    25979\n",
       "Voltage                  25979\n",
       "Global_intensity         25979\n",
       "Sub_metering_1           25979\n",
       "Sub_metering_2           25979\n",
       "Sub_metering_3           25979\n",
       "dtype: int64"
      ]
     },
     "execution_count": 4,
     "metadata": {},
     "output_type": "execute_result"
    }
   ],
   "source": [
    "df.isnull().sum()"
   ]
  },
  {
   "cell_type": "code",
   "execution_count": 5,
   "id": "6ca37ac4",
   "metadata": {
    "execution": {
     "iopub.execute_input": "2022-07-15T10:01:26.214173Z",
     "iopub.status.busy": "2022-07-15T10:01:26.213543Z",
     "iopub.status.idle": "2022-07-15T10:01:31.282481Z",
     "shell.execute_reply": "2022-07-15T10:01:31.281300Z"
    },
    "papermill": {
     "duration": 5.082611,
     "end_time": "2022-07-15T10:01:31.286014",
     "exception": false,
     "start_time": "2022-07-15T10:01:26.203403",
     "status": "completed"
    },
    "tags": []
   },
   "outputs": [
    {
     "data": {
      "text/plain": [
       "<AxesSubplot:>"
      ]
     },
     "execution_count": 5,
     "metadata": {},
     "output_type": "execute_result"
    },
    {
     "data": {
      "image/png": "[encoded data removed]",
      "text/plain": [
       "<Figure size 3240x720 with 2 Axes>"
      ]
     },
     "metadata": {
      "needs_background": "light"
     },
     "output_type": "display_data"
    }
   ],
   "source": [
    "import missingno as msno\n",
    "msno.matrix(df, labels=True,figsize=(45,10))"
   ]
  },
  {
   "cell_type": "markdown",
   "id": "c428c8c5",
   "metadata": {
    "papermill": {
     "duration": 0.009142,
     "end_time": "2022-07-15T10:01:31.305231",
     "exception": false,
     "start_time": "2022-07-15T10:01:31.296089",
     "status": "completed"
    },
    "tags": []
   },
   "source": [
    "There are some options for dealing with with missing values 'nan'.\n",
    "\n",
    "Option 1: Fill NaN with Outlier or Zero.\n",
    "\n",
    "Option 2: Fill NaN with Mean Value or other values.\n",
    "\n",
    "Option 3: Fill NaN with Last Value with .ffill()\n",
    "\n",
    "I think filling NaNs with the last value is a little bit better in this case, because the time delta is only 1 minute.\n",
    "\n",
    "Option 4: Fill NaN with Linearly Interpolated Value with .interpolate()."
   ]
  },
  {
   "cell_type": "code",
   "execution_count": 6,
   "id": "d26bcfc0",
   "metadata": {
    "execution": {
     "iopub.execute_input": "2022-07-15T10:01:31.326154Z",
     "iopub.status.busy": "2022-07-15T10:01:31.325757Z",
     "iopub.status.idle": "2022-07-15T10:01:31.412802Z",
     "shell.execute_reply": "2022-07-15T10:01:31.411329Z"
    },
    "papermill": {
     "duration": 0.101214,
     "end_time": "2022-07-15T10:01:31.416050",
     "exception": false,
     "start_time": "2022-07-15T10:01:31.314836",
     "status": "completed"
    },
    "tags": []
   },
   "outputs": [],
   "source": [
    "newdf = df.fillna(method='ffill')"
   ]
  },
  {
   "cell_type": "code",
   "execution_count": 7,
   "id": "586ab509",
   "metadata": {
    "execution": {
     "iopub.execute_input": "2022-07-15T10:01:31.438066Z",
     "iopub.status.busy": "2022-07-15T10:01:31.437394Z",
     "iopub.status.idle": "2022-07-15T10:01:31.475944Z",
     "shell.execute_reply": "2022-07-15T10:01:31.474843Z"
    },
    "papermill": {
     "duration": 0.052933,
     "end_time": "2022-07-15T10:01:31.478675",
     "exception": false,
     "start_time": "2022-07-15T10:01:31.425742",
     "status": "completed"
    },
    "tags": []
   },
   "outputs": [
    {
     "data": {
      "text/plain": [
       "Global_active_power      0\n",
       "Global_reactive_power    0\n",
       "Voltage                  0\n",
       "Global_intensity         0\n",
       "Sub_metering_1           0\n",
       "Sub_metering_2           0\n",
       "Sub_metering_3           0\n",
       "dtype: int64"
      ]
     },
     "execution_count": 7,
     "metadata": {},
     "output_type": "execute_result"
    }
   ],
   "source": [
    "newdf.isnull().sum()"
   ]
  },
  {
   "cell_type": "code",
   "execution_count": 8,
   "id": "69df0e69",
   "metadata": {
    "execution": {
     "iopub.execute_input": "2022-07-15T10:01:31.500191Z",
     "iopub.status.busy": "2022-07-15T10:01:31.499813Z",
     "iopub.status.idle": "2022-07-15T10:01:32.089465Z",
     "shell.execute_reply": "2022-07-15T10:01:32.088524Z"
    },
    "papermill": {
     "duration": 0.603407,
     "end_time": "2022-07-15T10:01:32.091758",
     "exception": false,
     "start_time": "2022-07-15T10:01:31.488351",
     "status": "completed"
    },
    "tags": []
   },
   "outputs": [
    {
     "data": {
      "text/html": [
       "<div>\n",
       "<style scoped>\n",
       "    .dataframe tbody tr th:only-of-type {\n",
       "        vertical-align: middle;\n",
       "    }\n",
       "\n",
       "    .dataframe tbody tr th {\n",
       "        vertical-align: top;\n",
       "    }\n",
       "\n",
       "    .dataframe thead th {\n",
       "        text-align: right;\n",
       "    }\n",
       "</style>\n",
       "<table border=\"1\" class=\"dataframe\">\n",
       "  <thead>\n",
       "    <tr style=\"text-align: right;\">\n",
       "      <th></th>\n",
       "      <th>Global_active_power</th>\n",
       "      <th>Global_reactive_power</th>\n",
       "      <th>Voltage</th>\n",
       "      <th>Global_intensity</th>\n",
       "      <th>Sub_metering_1</th>\n",
       "      <th>Sub_metering_2</th>\n",
       "      <th>Sub_metering_3</th>\n",
       "    </tr>\n",
       "  </thead>\n",
       "  <tbody>\n",
       "    <tr>\n",
       "      <th>count</th>\n",
       "      <td>2.075259e+06</td>\n",
       "      <td>2.075259e+06</td>\n",
       "      <td>2.075259e+06</td>\n",
       "      <td>2.075259e+06</td>\n",
       "      <td>2.075259e+06</td>\n",
       "      <td>2.075259e+06</td>\n",
       "      <td>2.075259e+06</td>\n",
       "    </tr>\n",
       "    <tr>\n",
       "      <th>mean</th>\n",
       "      <td>1.086168e+00</td>\n",
       "      <td>1.233280e-01</td>\n",
       "      <td>2.408416e+02</td>\n",
       "      <td>4.604226e+00</td>\n",
       "      <td>1.110995e+00</td>\n",
       "      <td>1.287958e+00</td>\n",
       "      <td>6.416570e+00</td>\n",
       "    </tr>\n",
       "    <tr>\n",
       "      <th>std</th>\n",
       "      <td>1.053172e+00</td>\n",
       "      <td>1.125144e-01</td>\n",
       "      <td>3.235574e+00</td>\n",
       "      <td>4.426775e+00</td>\n",
       "      <td>6.115908e+00</td>\n",
       "      <td>5.786865e+00</td>\n",
       "      <td>8.419505e+00</td>\n",
       "    </tr>\n",
       "    <tr>\n",
       "      <th>min</th>\n",
       "      <td>7.600000e-02</td>\n",
       "      <td>0.000000e+00</td>\n",
       "      <td>2.232000e+02</td>\n",
       "      <td>2.000000e-01</td>\n",
       "      <td>0.000000e+00</td>\n",
       "      <td>0.000000e+00</td>\n",
       "      <td>0.000000e+00</td>\n",
       "    </tr>\n",
       "    <tr>\n",
       "      <th>25%</th>\n",
       "      <td>3.080000e-01</td>\n",
       "      <td>4.800000e-02</td>\n",
       "      <td>2.390000e+02</td>\n",
       "      <td>1.400000e+00</td>\n",
       "      <td>0.000000e+00</td>\n",
       "      <td>0.000000e+00</td>\n",
       "      <td>0.000000e+00</td>\n",
       "    </tr>\n",
       "    <tr>\n",
       "      <th>50%</th>\n",
       "      <td>5.980000e-01</td>\n",
       "      <td>1.000000e-01</td>\n",
       "      <td>2.410200e+02</td>\n",
       "      <td>2.600000e+00</td>\n",
       "      <td>0.000000e+00</td>\n",
       "      <td>0.000000e+00</td>\n",
       "      <td>1.000000e+00</td>\n",
       "    </tr>\n",
       "    <tr>\n",
       "      <th>75%</th>\n",
       "      <td>1.524000e+00</td>\n",
       "      <td>1.940000e-01</td>\n",
       "      <td>2.428700e+02</td>\n",
       "      <td>6.400000e+00</td>\n",
       "      <td>0.000000e+00</td>\n",
       "      <td>1.000000e+00</td>\n",
       "      <td>1.700000e+01</td>\n",
       "    </tr>\n",
       "    <tr>\n",
       "      <th>max</th>\n",
       "      <td>1.112200e+01</td>\n",
       "      <td>1.390000e+00</td>\n",
       "      <td>2.541500e+02</td>\n",
       "      <td>4.840000e+01</td>\n",
       "      <td>8.800000e+01</td>\n",
       "      <td>8.000000e+01</td>\n",
       "      <td>3.100000e+01</td>\n",
       "    </tr>\n",
       "  </tbody>\n",
       "</table>\n",
       "</div>"
      ],
      "text/plain": [
       "       Global_active_power  Global_reactive_power       Voltage  \\\n",
       "count         2.075259e+06           2.075259e+06  2.075259e+06   \n",
       "mean          1.086168e+00           1.233280e-01  2.408416e+02   \n",
       "std           1.053172e+00           1.125144e-01  3.235574e+00   \n",
       "min           7.600000e-02           0.000000e+00  2.232000e+02   \n",
       "25%           3.080000e-01           4.800000e-02  2.390000e+02   \n",
       "50%           5.980000e-01           1.000000e-01  2.410200e+02   \n",
       "75%           1.524000e+00           1.940000e-01  2.428700e+02   \n",
       "max           1.112200e+01           1.390000e+00  2.541500e+02   \n",
       "\n",
       "       Global_intensity  Sub_metering_1  Sub_metering_2  Sub_metering_3  \n",
       "count      2.075259e+06    2.075259e+06    2.075259e+06    2.075259e+06  \n",
       "mean       4.604226e+00    1.110995e+00    1.287958e+00    6.416570e+00  \n",
       "std        4.426775e+00    6.115908e+00    5.786865e+00    8.419505e+00  \n",
       "min        2.000000e-01    0.000000e+00    0.000000e+00    0.000000e+00  \n",
       "25%        1.400000e+00    0.000000e+00    0.000000e+00    0.000000e+00  \n",
       "50%        2.600000e+00    0.000000e+00    0.000000e+00    1.000000e+00  \n",
       "75%        6.400000e+00    0.000000e+00    1.000000e+00    1.700000e+01  \n",
       "max        4.840000e+01    8.800000e+01    8.000000e+01    3.100000e+01  "
      ]
     },
     "execution_count": 8,
     "metadata": {},
     "output_type": "execute_result"
    }
   ],
   "source": [
    "newdf.describe()"
   ]
  },
  {
   "cell_type": "markdown",
   "id": "9892f53d",
   "metadata": {
    "papermill": {
     "duration": 0.009933,
     "end_time": "2022-07-15T10:01:32.111820",
     "exception": false,
     "start_time": "2022-07-15T10:01:32.101887",
     "status": "completed"
    },
    "tags": []
   },
   "source": [
    "# Create Time Series Features & lagging features\n",
    "\n",
    "Useful link: https://www.kaggle.com/code/avanwyk/encoding-cyclical-features-for-deep-learning/notebook\n",
    "\n",
    "\"A common method for encoding cyclical data is to transform the data into two dimensions using a sine and consine transformation.\""
   ]
  },
  {
   "cell_type": "code",
   "execution_count": 9,
   "id": "6e8f2508",
   "metadata": {
    "execution": {
     "iopub.execute_input": "2022-07-15T10:01:32.133878Z",
     "iopub.status.busy": "2022-07-15T10:01:32.133240Z",
     "iopub.status.idle": "2022-07-15T10:01:32.139167Z",
     "shell.execute_reply": "2022-07-15T10:01:32.138340Z"
    },
    "papermill": {
     "duration": 0.0198,
     "end_time": "2022-07-15T10:01:32.141686",
     "exception": false,
     "start_time": "2022-07-15T10:01:32.121886",
     "status": "completed"
    },
    "tags": []
   },
   "outputs": [],
   "source": [
    "def encode(data, col, max_val):\n",
    "    data[col + '_sin'] = np.sin(2 * np.pi * data[col]/max_val)\n",
    "    data[col + '_cos'] = np.cos(2 * np.pi * data[col]/max_val)\n",
    "    data.drop(col,axis=1,inplace = True)\n",
    "    return data"
   ]
  },
  {
   "cell_type": "code",
   "execution_count": 10,
   "id": "57ba291c",
   "metadata": {
    "execution": {
     "iopub.execute_input": "2022-07-15T10:01:32.163489Z",
     "iopub.status.busy": "2022-07-15T10:01:32.163039Z",
     "iopub.status.idle": "2022-07-15T10:01:32.170219Z",
     "shell.execute_reply": "2022-07-15T10:01:32.169357Z"
    },
    "papermill": {
     "duration": 0.020771,
     "end_time": "2022-07-15T10:01:32.172331",
     "exception": false,
     "start_time": "2022-07-15T10:01:32.151560",
     "status": "completed"
    },
    "tags": []
   },
   "outputs": [],
   "source": [
    "# Set 15 minutes as a lagging time unit, therefore lagging time will be 15 min * n, such as 15 min, 30 min, 1 hour and so on. \n",
    "# The smaller this lagging time unit is, the better the predicting result is. \n",
    "\n",
    "def get_lag(data, col, lagtime):\n",
    "    for i in range(1,lagtime+1):\n",
    "        if len(pd.Series(col)) == 1:\n",
    "            data[col+\"_lag\"+str(i)] = data[col].shift(i*15)\n",
    "        else:\n",
    "            for col_j in col:\n",
    "                data[col_j+\"_lag\"+str(i)] = data[col_j].shift(i*15)\n",
    "    return data"
   ]
  },
  {
   "cell_type": "code",
   "execution_count": 11,
   "id": "05461afe",
   "metadata": {
    "execution": {
     "iopub.execute_input": "2022-07-15T10:01:32.195048Z",
     "iopub.status.busy": "2022-07-15T10:01:32.194291Z",
     "iopub.status.idle": "2022-07-15T10:01:34.979858Z",
     "shell.execute_reply": "2022-07-15T10:01:34.978742Z"
    },
    "papermill": {
     "duration": 2.800684,
     "end_time": "2022-07-15T10:01:34.982875",
     "exception": false,
     "start_time": "2022-07-15T10:01:32.182191",
     "status": "completed"
    },
    "tags": []
   },
   "outputs": [],
   "source": [
    "# Create Time Series Features \n",
    "\n",
    "newdf['date'] = newdf.index\n",
    "\n",
    "newdf['hour'] = newdf['date'].dt.hour\n",
    "newdf = encode(newdf,'hour',24)\n",
    "\n",
    "newdf['dayofweek'] = newdf['date'].dt.dayofweek\n",
    "newdf = encode(newdf,'dayofweek',7)\n",
    "\n",
    "newdf['month'] = newdf['date'].dt.month\n",
    "newdf = encode(newdf,'month',12)\n",
    "\n",
    "# newdf['year'] = newdf['date'].dt.year\n",
    "\n",
    "newdf['dayofyear'] = newdf['date'].dt.dayofyear\n",
    "newdf = encode(newdf,'dayofyear',365)\n",
    "\n",
    "newdf['dayofmonth'] = newdf['date'].dt.day\n",
    "newdf = encode(newdf,'dayofmonth',31)\n",
    "\n",
    "#newdf['weekofyear'] = newdf['date'].dt.weekofyear\n",
    "\n",
    "newdf.drop('date',axis=1,inplace = True)"
   ]
  },
  {
   "cell_type": "code",
   "execution_count": 12,
   "id": "f22c86a0",
   "metadata": {
    "execution": {
     "iopub.execute_input": "2022-07-15T10:01:35.005636Z",
     "iopub.status.busy": "2022-07-15T10:01:35.004698Z",
     "iopub.status.idle": "2022-07-15T10:01:36.428189Z",
     "shell.execute_reply": "2022-07-15T10:01:36.426965Z"
    },
    "papermill": {
     "duration": 1.437567,
     "end_time": "2022-07-15T10:01:36.430928",
     "exception": false,
     "start_time": "2022-07-15T10:01:34.993361",
     "status": "completed"
    },
    "tags": []
   },
   "outputs": [],
   "source": [
    "# adding lagging feature\n",
    "\n",
    "# adding time lags of 15min,30min as features\n",
    "\n",
    "lagtime = 2\n",
    "lag_feature = ['Global_reactive_power','Voltage', 'Global_intensity','Sub_metering_1','Sub_metering_2','Sub_metering_3']\n",
    "newdf = get_lag(newdf, lag_feature, lagtime)\n",
    "\n",
    "# adding time lags of 2 hours as features\n",
    "\n",
    "newdf = get_lag(newdf, 'Global_active_power', 8)\n",
    "\n",
    "newdf.drop(lag_feature,axis=1,inplace = True)\n",
    "\n",
    "newdf.dropna(inplace=True)"
   ]
  },
  {
   "cell_type": "code",
   "execution_count": 13,
   "id": "b67cc8cd",
   "metadata": {
    "execution": {
     "iopub.execute_input": "2022-07-15T10:01:36.455919Z",
     "iopub.status.busy": "2022-07-15T10:01:36.455527Z",
     "iopub.status.idle": "2022-07-15T10:01:36.484716Z",
     "shell.execute_reply": "2022-07-15T10:01:36.483899Z"
    },
    "papermill": {
     "duration": 0.044104,
     "end_time": "2022-07-15T10:01:36.486847",
     "exception": false,
     "start_time": "2022-07-15T10:01:36.442743",
     "status": "completed"
    },
    "tags": []
   },
   "outputs": [
    {
     "data": {
      "text/html": [
       "<div>\n",
       "<style scoped>\n",
       "    .dataframe tbody tr th:only-of-type {\n",
       "        vertical-align: middle;\n",
       "    }\n",
       "\n",
       "    .dataframe tbody tr th {\n",
       "        vertical-align: top;\n",
       "    }\n",
       "\n",
       "    .dataframe thead th {\n",
       "        text-align: right;\n",
       "    }\n",
       "</style>\n",
       "<table border=\"1\" class=\"dataframe\">\n",
       "  <thead>\n",
       "    <tr style=\"text-align: right;\">\n",
       "      <th></th>\n",
       "      <th>Global_active_power</th>\n",
       "      <th>hour_sin</th>\n",
       "      <th>hour_cos</th>\n",
       "      <th>dayofweek_sin</th>\n",
       "      <th>dayofweek_cos</th>\n",
       "      <th>month_sin</th>\n",
       "      <th>month_cos</th>\n",
       "      <th>dayofyear_sin</th>\n",
       "      <th>dayofyear_cos</th>\n",
       "      <th>dayofmonth_sin</th>\n",
       "      <th>...</th>\n",
       "      <th>Sub_metering_2_lag2</th>\n",
       "      <th>Sub_metering_3_lag2</th>\n",
       "      <th>Global_active_power_lag1</th>\n",
       "      <th>Global_active_power_lag2</th>\n",
       "      <th>Global_active_power_lag3</th>\n",
       "      <th>Global_active_power_lag4</th>\n",
       "      <th>Global_active_power_lag5</th>\n",
       "      <th>Global_active_power_lag6</th>\n",
       "      <th>Global_active_power_lag7</th>\n",
       "      <th>Global_active_power_lag8</th>\n",
       "    </tr>\n",
       "    <tr>\n",
       "      <th>dt</th>\n",
       "      <th></th>\n",
       "      <th></th>\n",
       "      <th></th>\n",
       "      <th></th>\n",
       "      <th></th>\n",
       "      <th></th>\n",
       "      <th></th>\n",
       "      <th></th>\n",
       "      <th></th>\n",
       "      <th></th>\n",
       "      <th></th>\n",
       "      <th></th>\n",
       "      <th></th>\n",
       "      <th></th>\n",
       "      <th></th>\n",
       "      <th></th>\n",
       "      <th></th>\n",
       "      <th></th>\n",
       "      <th></th>\n",
       "      <th></th>\n",
       "      <th></th>\n",
       "    </tr>\n",
       "  </thead>\n",
       "  <tbody>\n",
       "    <tr>\n",
       "      <th>2006-12-16 19:24:00</th>\n",
       "      <td>3.262</td>\n",
       "      <td>-0.965926</td>\n",
       "      <td>0.258819</td>\n",
       "      <td>-0.974928</td>\n",
       "      <td>-0.222521</td>\n",
       "      <td>-2.449294e-16</td>\n",
       "      <td>1.0</td>\n",
       "      <td>-0.255353</td>\n",
       "      <td>0.966848</td>\n",
       "      <td>-0.101168</td>\n",
       "      <td>...</td>\n",
       "      <td>1.0</td>\n",
       "      <td>16.0</td>\n",
       "      <td>3.394</td>\n",
       "      <td>4.298</td>\n",
       "      <td>2.326</td>\n",
       "      <td>3.452</td>\n",
       "      <td>4.464</td>\n",
       "      <td>2.720</td>\n",
       "      <td>3.384</td>\n",
       "      <td>4.216</td>\n",
       "    </tr>\n",
       "    <tr>\n",
       "      <th>2006-12-16 19:25:00</th>\n",
       "      <td>3.476</td>\n",
       "      <td>-0.965926</td>\n",
       "      <td>0.258819</td>\n",
       "      <td>-0.974928</td>\n",
       "      <td>-0.222521</td>\n",
       "      <td>-2.449294e-16</td>\n",
       "      <td>1.0</td>\n",
       "      <td>-0.255353</td>\n",
       "      <td>0.966848</td>\n",
       "      <td>-0.101168</td>\n",
       "      <td>...</td>\n",
       "      <td>1.0</td>\n",
       "      <td>17.0</td>\n",
       "      <td>3.400</td>\n",
       "      <td>4.230</td>\n",
       "      <td>2.264</td>\n",
       "      <td>4.870</td>\n",
       "      <td>3.396</td>\n",
       "      <td>3.758</td>\n",
       "      <td>3.270</td>\n",
       "      <td>5.360</td>\n",
       "    </tr>\n",
       "    <tr>\n",
       "      <th>2006-12-16 19:26:00</th>\n",
       "      <td>3.620</td>\n",
       "      <td>-0.965926</td>\n",
       "      <td>0.258819</td>\n",
       "      <td>-0.974928</td>\n",
       "      <td>-0.222521</td>\n",
       "      <td>-2.449294e-16</td>\n",
       "      <td>1.0</td>\n",
       "      <td>-0.255353</td>\n",
       "      <td>0.966848</td>\n",
       "      <td>-0.101168</td>\n",
       "      <td>...</td>\n",
       "      <td>2.0</td>\n",
       "      <td>16.0</td>\n",
       "      <td>3.414</td>\n",
       "      <td>4.230</td>\n",
       "      <td>2.270</td>\n",
       "      <td>4.868</td>\n",
       "      <td>3.090</td>\n",
       "      <td>4.342</td>\n",
       "      <td>3.430</td>\n",
       "      <td>5.374</td>\n",
       "    </tr>\n",
       "    <tr>\n",
       "      <th>2006-12-16 19:27:00</th>\n",
       "      <td>3.610</td>\n",
       "      <td>-0.965926</td>\n",
       "      <td>0.258819</td>\n",
       "      <td>-0.974928</td>\n",
       "      <td>-0.222521</td>\n",
       "      <td>-2.449294e-16</td>\n",
       "      <td>1.0</td>\n",
       "      <td>-0.255353</td>\n",
       "      <td>0.966848</td>\n",
       "      <td>-0.101168</td>\n",
       "      <td>...</td>\n",
       "      <td>1.0</td>\n",
       "      <td>17.0</td>\n",
       "      <td>3.432</td>\n",
       "      <td>3.924</td>\n",
       "      <td>2.258</td>\n",
       "      <td>4.866</td>\n",
       "      <td>3.730</td>\n",
       "      <td>4.512</td>\n",
       "      <td>3.266</td>\n",
       "      <td>5.388</td>\n",
       "    </tr>\n",
       "    <tr>\n",
       "      <th>2006-12-16 19:28:00</th>\n",
       "      <td>3.646</td>\n",
       "      <td>-0.965926</td>\n",
       "      <td>0.258819</td>\n",
       "      <td>-0.974928</td>\n",
       "      <td>-0.222521</td>\n",
       "      <td>-2.449294e-16</td>\n",
       "      <td>1.0</td>\n",
       "      <td>-0.255353</td>\n",
       "      <td>0.966848</td>\n",
       "      <td>-0.101168</td>\n",
       "      <td>...</td>\n",
       "      <td>1.0</td>\n",
       "      <td>17.0</td>\n",
       "      <td>3.418</td>\n",
       "      <td>4.218</td>\n",
       "      <td>2.188</td>\n",
       "      <td>3.176</td>\n",
       "      <td>2.308</td>\n",
       "      <td>4.058</td>\n",
       "      <td>3.728</td>\n",
       "      <td>3.666</td>\n",
       "    </tr>\n",
       "  </tbody>\n",
       "</table>\n",
       "<p>5 rows × 31 columns</p>\n",
       "</div>"
      ],
      "text/plain": [
       "                     Global_active_power  hour_sin  hour_cos  dayofweek_sin  \\\n",
       "dt                                                                            \n",
       "2006-12-16 19:24:00                3.262 -0.965926  0.258819      -0.974928   \n",
       "2006-12-16 19:25:00                3.476 -0.965926  0.258819      -0.974928   \n",
       "2006-12-16 19:26:00                3.620 -0.965926  0.258819      -0.974928   \n",
       "2006-12-16 19:27:00                3.610 -0.965926  0.258819      -0.974928   \n",
       "2006-12-16 19:28:00                3.646 -0.965926  0.258819      -0.974928   \n",
       "\n",
       "                     dayofweek_cos     month_sin  month_cos  dayofyear_sin  \\\n",
       "dt                                                                           \n",
       "2006-12-16 19:24:00      -0.222521 -2.449294e-16        1.0      -0.255353   \n",
       "2006-12-16 19:25:00      -0.222521 -2.449294e-16        1.0      -0.255353   \n",
       "2006-12-16 19:26:00      -0.222521 -2.449294e-16        1.0      -0.255353   \n",
       "2006-12-16 19:27:00      -0.222521 -2.449294e-16        1.0      -0.255353   \n",
       "2006-12-16 19:28:00      -0.222521 -2.449294e-16        1.0      -0.255353   \n",
       "\n",
       "                     dayofyear_cos  dayofmonth_sin  ...  Sub_metering_2_lag2  \\\n",
       "dt                                                  ...                        \n",
       "2006-12-16 19:24:00       0.966848       -0.101168  ...                  1.0   \n",
       "2006-12-16 19:25:00       0.966848       -0.101168  ...                  1.0   \n",
       "2006-12-16 19:26:00       0.966848       -0.101168  ...                  2.0   \n",
       "2006-12-16 19:27:00       0.966848       -0.101168  ...                  1.0   \n",
       "2006-12-16 19:28:00       0.966848       -0.101168  ...                  1.0   \n",
       "\n",
       "                     Sub_metering_3_lag2  Global_active_power_lag1  \\\n",
       "dt                                                                   \n",
       "2006-12-16 19:24:00                 16.0                     3.394   \n",
       "2006-12-16 19:25:00                 17.0                     3.400   \n",
       "2006-12-16 19:26:00                 16.0                     3.414   \n",
       "2006-12-16 19:27:00                 17.0                     3.432   \n",
       "2006-12-16 19:28:00                 17.0                     3.418   \n",
       "\n",
       "                     Global_active_power_lag2  Global_active_power_lag3  \\\n",
       "dt                                                                        \n",
       "2006-12-16 19:24:00                     4.298                     2.326   \n",
       "2006-12-16 19:25:00                     4.230                     2.264   \n",
       "2006-12-16 19:26:00                     4.230                     2.270   \n",
       "2006-12-16 19:27:00                     3.924                     2.258   \n",
       "2006-12-16 19:28:00                     4.218                     2.188   \n",
       "\n",
       "                     Global_active_power_lag4  Global_active_power_lag5  \\\n",
       "dt                                                                        \n",
       "2006-12-16 19:24:00                     3.452                     4.464   \n",
       "2006-12-16 19:25:00                     4.870                     3.396   \n",
       "2006-12-16 19:26:00                     4.868                     3.090   \n",
       "2006-12-16 19:27:00                     4.866                     3.730   \n",
       "2006-12-16 19:28:00                     3.176                     2.308   \n",
       "\n",
       "                     Global_active_power_lag6  Global_active_power_lag7  \\\n",
       "dt                                                                        \n",
       "2006-12-16 19:24:00                     2.720                     3.384   \n",
       "2006-12-16 19:25:00                     3.758                     3.270   \n",
       "2006-12-16 19:26:00                     4.342                     3.430   \n",
       "2006-12-16 19:27:00                     4.512                     3.266   \n",
       "2006-12-16 19:28:00                     4.058                     3.728   \n",
       "\n",
       "                     Global_active_power_lag8  \n",
       "dt                                             \n",
       "2006-12-16 19:24:00                     4.216  \n",
       "2006-12-16 19:25:00                     5.360  \n",
       "2006-12-16 19:26:00                     5.374  \n",
       "2006-12-16 19:27:00                     5.388  \n",
       "2006-12-16 19:28:00                     3.666  \n",
       "\n",
       "[5 rows x 31 columns]"
      ]
     },
     "execution_count": 13,
     "metadata": {},
     "output_type": "execute_result"
    }
   ],
   "source": [
    "newdf.head()"
   ]
  },
  {
   "cell_type": "markdown",
   "id": "d4a1108c",
   "metadata": {
    "papermill": {
     "duration": 0.010209,
     "end_time": "2022-07-15T10:01:36.507801",
     "exception": false,
     "start_time": "2022-07-15T10:01:36.497592",
     "status": "completed"
    },
    "tags": []
   },
   "source": [
    "# Train/Test Data Split"
   ]
  },
  {
   "cell_type": "code",
   "execution_count": 14,
   "id": "1ed92a6d",
   "metadata": {
    "execution": {
     "iopub.execute_input": "2022-07-15T10:01:36.531123Z",
     "iopub.status.busy": "2022-07-15T10:01:36.530403Z",
     "iopub.status.idle": "2022-07-15T10:01:36.655296Z",
     "shell.execute_reply": "2022-07-15T10:01:36.654237Z"
    },
    "papermill": {
     "duration": 0.139589,
     "end_time": "2022-07-15T10:01:36.657900",
     "exception": false,
     "start_time": "2022-07-15T10:01:36.518311",
     "status": "completed"
    },
    "tags": []
   },
   "outputs": [
    {
     "data": {
      "text/plain": [
       "(525877, 31)"
      ]
     },
     "execution_count": 14,
     "metadata": {},
     "output_type": "execute_result"
    }
   ],
   "source": [
    "split_date =pd.to_datetime( '2007-12-17')\n",
    "df_train = newdf.loc[newdf.index <= split_date].copy()\n",
    "df_train.shape"
   ]
  },
  {
   "cell_type": "code",
   "execution_count": 15,
   "id": "cbbeb949",
   "metadata": {
    "execution": {
     "iopub.execute_input": "2022-07-15T10:01:36.680807Z",
     "iopub.status.busy": "2022-07-15T10:01:36.680063Z",
     "iopub.status.idle": "2022-07-15T10:01:36.875077Z",
     "shell.execute_reply": "2022-07-15T10:01:36.873889Z"
    },
    "papermill": {
     "duration": 0.209787,
     "end_time": "2022-07-15T10:01:36.877995",
     "exception": false,
     "start_time": "2022-07-15T10:01:36.668208",
     "status": "completed"
    },
    "tags": []
   },
   "outputs": [
    {
     "data": {
      "text/plain": [
       "(5000, 31)"
      ]
     },
     "execution_count": 15,
     "metadata": {},
     "output_type": "execute_result"
    }
   ],
   "source": [
    "#df_test = pd.DataFrame(newdf.loc[newdf.index > split_date]\n",
    "df_test = pd.DataFrame(newdf.loc[newdf.index > split_date][:5000])\n",
    "\n",
    "df_test.shape"
   ]
  },
  {
   "cell_type": "code",
   "execution_count": 16,
   "id": "59d2a77e",
   "metadata": {
    "execution": {
     "iopub.execute_input": "2022-07-15T10:01:36.900522Z",
     "iopub.status.busy": "2022-07-15T10:01:36.900100Z",
     "iopub.status.idle": "2022-07-15T10:01:36.906899Z",
     "shell.execute_reply": "2022-07-15T10:01:36.905751Z"
    },
    "papermill": {
     "duration": 0.020571,
     "end_time": "2022-07-15T10:01:36.909023",
     "exception": false,
     "start_time": "2022-07-15T10:01:36.888452",
     "status": "completed"
    },
    "tags": []
   },
   "outputs": [],
   "source": [
    "# The target is forecasting Global_active_power.\n",
    "X_train, y_train = df_train.iloc[:,1:],df_train.iloc[:,0]\n",
    "X_test, y_test = df_test.iloc[:,1:],df_test.iloc[:,0]"
   ]
  },
  {
   "cell_type": "markdown",
   "id": "653c7b70",
   "metadata": {
    "papermill": {
     "duration": 0.010225,
     "end_time": "2022-07-15T10:01:36.929704",
     "exception": false,
     "start_time": "2022-07-15T10:01:36.919479",
     "status": "completed"
    },
    "tags": []
   },
   "source": [
    "# XGBoost Model"
   ]
  },
  {
   "cell_type": "code",
   "execution_count": 17,
   "id": "3af1d9d8",
   "metadata": {
    "execution": {
     "iopub.execute_input": "2022-07-15T10:01:36.952636Z",
     "iopub.status.busy": "2022-07-15T10:01:36.952190Z",
     "iopub.status.idle": "2022-07-15T10:02:39.596596Z",
     "shell.execute_reply": "2022-07-15T10:02:39.595352Z"
    },
    "papermill": {
     "duration": 62.669167,
     "end_time": "2022-07-15T10:02:39.609212",
     "exception": false,
     "start_time": "2022-07-15T10:01:36.940045",
     "status": "completed"
    },
    "tags": []
   },
   "outputs": [
    {
     "data": {
      "text/plain": [
       "XGBRegressor(base_score=0.5, booster='gbtree', callbacks=None,\n",
       "             colsample_bylevel=1, colsample_bynode=1, colsample_bytree=1,\n",
       "             early_stopping_rounds=None, enable_categorical=False,\n",
       "             eval_metric=None, gamma=0, gpu_id=-1, grow_policy='depthwise',\n",
       "             importance_type=None, interaction_constraints='',\n",
       "             learning_rate=0.300000012, max_bin=256, max_cat_to_onehot=4,\n",
       "             max_delta_step=0, max_depth=6, max_leaves=0, min_child_weight=1,\n",
       "             missing=nan, monotone_constraints='()', n_estimators=1000,\n",
       "             n_jobs=0, num_parallel_tree=1, predictor='auto', random_state=0,\n",
       "             reg_alpha=0, reg_lambda=1, ...)"
      ]
     },
     "execution_count": 17,
     "metadata": {},
     "output_type": "execute_result"
    }
   ],
   "source": [
    "reg = xgb.XGBRegressor(n_estimators=1000)\n",
    "reg.fit(X_train, y_train,\n",
    "        eval_set=[(X_train, y_train), (X_test, y_test)],\n",
    "        early_stopping_rounds=50,\n",
    "       verbose=False) # Change verbose to True if you want to see it train"
   ]
  },
  {
   "cell_type": "markdown",
   "id": "f7688c3c",
   "metadata": {
    "papermill": {
     "duration": 0.010632,
     "end_time": "2022-07-15T10:02:39.630553",
     "exception": false,
     "start_time": "2022-07-15T10:02:39.619921",
     "status": "completed"
    },
    "tags": []
   },
   "source": [
    "## Feature Importances"
   ]
  },
  {
   "cell_type": "code",
   "execution_count": 18,
   "id": "1081ec70",
   "metadata": {
    "execution": {
     "iopub.execute_input": "2022-07-15T10:02:39.654509Z",
     "iopub.status.busy": "2022-07-15T10:02:39.653727Z",
     "iopub.status.idle": "2022-07-15T10:02:40.199784Z",
     "shell.execute_reply": "2022-07-15T10:02:40.198859Z"
    },
    "papermill": {
     "duration": 0.560962,
     "end_time": "2022-07-15T10:02:40.202428",
     "exception": false,
     "start_time": "2022-07-15T10:02:39.641466",
     "status": "completed"
    },
    "tags": []
   },
   "outputs": [
    {
     "data": {
      "image/png": "[encoded data removed]",
      "text/plain": [
       "<Figure size 1080x720 with 1 Axes>"
      ]
     },
     "metadata": {
      "needs_background": "light"
     },
     "output_type": "display_data"
    }
   ],
   "source": [
    "f, ax = plt.subplots(figsize=(15,10))\n",
    "_ = plot_importance(reg, height=0.9,ax = ax)\n",
    "plt.show()"
   ]
  },
  {
   "cell_type": "markdown",
   "id": "4a977d3c",
   "metadata": {
    "papermill": {
     "duration": 0.011612,
     "end_time": "2022-07-15T10:02:40.226009",
     "exception": false,
     "start_time": "2022-07-15T10:02:40.214397",
     "status": "completed"
    },
    "tags": []
   },
   "source": [
    "# Forecast on Test Set"
   ]
  },
  {
   "cell_type": "code",
   "execution_count": 19,
   "id": "61f69b11",
   "metadata": {
    "execution": {
     "iopub.execute_input": "2022-07-15T10:02:40.251926Z",
     "iopub.status.busy": "2022-07-15T10:02:40.251480Z",
     "iopub.status.idle": "2022-07-15T10:02:40.320159Z",
     "shell.execute_reply": "2022-07-15T10:02:40.319143Z"
    },
    "papermill": {
     "duration": 0.084572,
     "end_time": "2022-07-15T10:02:40.322874",
     "exception": false,
     "start_time": "2022-07-15T10:02:40.238302",
     "status": "completed"
    },
    "tags": []
   },
   "outputs": [],
   "source": [
    "df_test['Prediction'] = reg.predict(X_test)\n",
    "df_all = pd.concat([df_test, df_train], sort=False)"
   ]
  },
  {
   "cell_type": "code",
   "execution_count": 20,
   "id": "e1d82c4b",
   "metadata": {
    "execution": {
     "iopub.execute_input": "2022-07-15T10:02:40.349044Z",
     "iopub.status.busy": "2022-07-15T10:02:40.348312Z",
     "iopub.status.idle": "2022-07-15T10:02:45.949555Z",
     "shell.execute_reply": "2022-07-15T10:02:45.948160Z"
    },
    "papermill": {
     "duration": 5.61776,
     "end_time": "2022-07-15T10:02:45.952577",
     "exception": false,
     "start_time": "2022-07-15T10:02:40.334817",
     "status": "completed"
    },
    "tags": []
   },
   "outputs": [
    {
     "data": {
      "image/png": "[encoded data removed]",
      "text/plain": [
       "<Figure size 1080x360 with 1 Axes>"
      ]
     },
     "metadata": {
      "needs_background": "light"
     },
     "output_type": "display_data"
    }
   ],
   "source": [
    "f, ax = plt.subplots(1)\n",
    "f.set_figheight(5)\n",
    "f.set_figwidth(15)\n",
    "_ = df_all[['Global_active_power','Prediction']].plot(ax=ax,style=['-','.'])\n",
    "ax.set_xbound(lower='12-10-2007', upper='12-20-2007')\n",
    "plot = plt.suptitle('Predicted Day')\n",
    "plt.show()"
   ]
  },
  {
   "cell_type": "markdown",
   "id": "96831f53",
   "metadata": {
    "papermill": {
     "duration": 0.013838,
     "end_time": "2022-07-15T10:02:45.979777",
     "exception": false,
     "start_time": "2022-07-15T10:02:45.965939",
     "status": "completed"
    },
    "tags": []
   },
   "source": [
    "# RMSE On Test Set"
   ]
  },
  {
   "cell_type": "code",
   "execution_count": 21,
   "id": "4bb2b620",
   "metadata": {
    "execution": {
     "iopub.execute_input": "2022-07-15T10:02:46.009193Z",
     "iopub.status.busy": "2022-07-15T10:02:46.008406Z",
     "iopub.status.idle": "2022-07-15T10:02:46.017339Z",
     "shell.execute_reply": "2022-07-15T10:02:46.016418Z"
    },
    "papermill": {
     "duration": 0.026519,
     "end_time": "2022-07-15T10:02:46.019667",
     "exception": false,
     "start_time": "2022-07-15T10:02:45.993148",
     "status": "completed"
    },
    "tags": []
   },
   "outputs": [
    {
     "data": {
      "text/plain": [
       "0.6902982409967734"
      ]
     },
     "execution_count": 21,
     "metadata": {},
     "output_type": "execute_result"
    }
   ],
   "source": [
    "np.sqrt(mean_squared_error(df_test['Prediction'], df_test['Global_active_power']))"
   ]
  },
  {
   "cell_type": "markdown",
   "id": "d33e8891",
   "metadata": {
    "papermill": {
     "duration": 0.01262,
     "end_time": "2022-07-15T10:02:46.045789",
     "exception": false,
     "start_time": "2022-07-15T10:02:46.033169",
     "status": "completed"
    },
    "tags": []
   },
   "source": [
    "Useful link:\n",
    "\n",
    "https://www.kaggle.com/code/amirrezaeian/time-series-data-analysis-using-lstm-tutorial\n",
    "\n",
    "https://www.kaggle.com/code/robikscube/tutorial-time-series-forecasting-with-xgboost/notebook\n",
    "\n",
    "https://www.kaggle.com/code/avanwyk/encoding-cyclical-features-for-deep-learning/notebook\n",
    "\n",
    "I use some codes of the notebooks above.\n",
    "\n",
    "Thanks for giving advice."
   ]
  },
  {
   "cell_type": "markdown",
   "id": "0fe7d28e",
   "metadata": {
    "papermill": {
     "duration": 0.012864,
     "end_time": "2022-07-15T10:02:46.072098",
     "exception": false,
     "start_time": "2022-07-15T10:02:46.059234",
     "status": "completed"
    },
    "tags": []
   },
   "source": []
  }
 ],
 "metadata": {
  "kernelspec": {
   "display_name": "Python 3",
   "language": "python",
   "name": "python3"
  },
  "language_info": {
   "codemirror_mode": {
    "name": "ipython",
    "version": 3
   },
   "file_extension": ".py",
   "mimetype": "text/x-python",
   "name": "python",
   "nbconvert_exporter": "python",
   "pygments_lexer": "ipython3",
   "version": "3.7.12"
  },
  "papermill": {
   "default_parameters": {},
   "duration": 109.10443,
   "end_time": "2022-07-15T10:02:47.108485",
   "environment_variables": {},
   "exception": null,
   "input_path": "__notebook__.ipynb",
   "output_path": "__notebook__.ipynb",
   "parameters": {},
   "start_time": "2022-07-15T10:00:58.004055",
   "version": "2.3.4"
  }
 },
 "nbformat": 4,
 "nbformat_minor": 5
}
